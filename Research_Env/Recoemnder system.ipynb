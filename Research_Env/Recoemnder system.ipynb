{
 "cells": [
  {
   "cell_type": "code",
   "execution_count": 1,
   "id": "7225d200",
   "metadata": {},
   "outputs": [
    {
     "name": "stderr",
     "output_type": "stream",
     "text": [
      "C:\\Users\\Sagar\\anaconda3\\envs\\CapstoneProjecct\\lib\\site-packages\\scipy\\__init__.py:146: UserWarning: A NumPy version >=1.17.3 and <1.25.0 is required for this version of SciPy (detected version 1.25.2\n",
      "  warnings.warn(f\"A NumPy version >={np_minversion} and <{np_maxversion}\"\n"
     ]
    }
   ],
   "source": [
    "import numpy as np\n",
    "import pandas as pd\n",
    "import re\n",
    "from sklearn.feature_extraction.text import TfidfVectorizer\n",
    "from sklearn.metrics.pairwise import cosine_similarity"
   ]
  },
  {
   "cell_type": "code",
   "execution_count": 2,
   "id": "5c739326",
   "metadata": {},
   "outputs": [],
   "source": [
    "df = pd.read_csv('appartments.csv')"
   ]
  },
  {
   "cell_type": "code",
   "execution_count": 3,
   "id": "ab104dd1",
   "metadata": {},
   "outputs": [
    {
     "data": {
      "text/html": [
       "<div>\n",
       "<style scoped>\n",
       "    .dataframe tbody tr th:only-of-type {\n",
       "        vertical-align: middle;\n",
       "    }\n",
       "\n",
       "    .dataframe tbody tr th {\n",
       "        vertical-align: top;\n",
       "    }\n",
       "\n",
       "    .dataframe thead th {\n",
       "        text-align: right;\n",
       "    }\n",
       "</style>\n",
       "<table border=\"1\" class=\"dataframe\">\n",
       "  <thead>\n",
       "    <tr style=\"text-align: right;\">\n",
       "      <th></th>\n",
       "      <th>PropertyName</th>\n",
       "      <th>PropertySubName</th>\n",
       "      <th>NearbyLocations</th>\n",
       "      <th>LocationAdvantages</th>\n",
       "      <th>Link</th>\n",
       "      <th>PriceDetails</th>\n",
       "      <th>TopFacilities</th>\n",
       "    </tr>\n",
       "  </thead>\n",
       "  <tbody>\n",
       "    <tr>\n",
       "      <th>0</th>\n",
       "      <td>Smartworld One DXP</td>\n",
       "      <td>2, 3, 4 BHK Apartment in Sector 113, Gurgaon</td>\n",
       "      <td>['Bajghera Road', 'Palam Vihar Halt', 'DPSG Pa...</td>\n",
       "      <td>{'Bajghera Road': '800 Meter', 'Palam Vihar Ha...</td>\n",
       "      <td>https://www.99acres.com/smartworld-one-dxp-sec...</td>\n",
       "      <td>{'2 BHK': {'building_type': 'Apartment', 'area...</td>\n",
       "      <td>['Swimming Pool', 'Salon', 'Restaurant', 'Spa'...</td>\n",
       "    </tr>\n",
       "    <tr>\n",
       "      <th>1</th>\n",
       "      <td>M3M Crown</td>\n",
       "      <td>3, 4 BHK Apartment in Sector 111, Gurgaon</td>\n",
       "      <td>['DPSG Palam Vihar Gurugram', 'The NorthCap Un...</td>\n",
       "      <td>{'DPSG Palam Vihar Gurugram': '1.4 Km', 'The N...</td>\n",
       "      <td>https://www.99acres.com/m3m-crown-sector-111-g...</td>\n",
       "      <td>{'3 BHK': {'building_type': 'Apartment', 'area...</td>\n",
       "      <td>['Bowling Alley', 'Mini Theatre', 'Manicured G...</td>\n",
       "    </tr>\n",
       "    <tr>\n",
       "      <th>2</th>\n",
       "      <td>Adani Brahma Samsara Vilasa</td>\n",
       "      <td>Land, 3, 4 BHK Independent Floor in Sector 63,...</td>\n",
       "      <td>['AIPL Business Club Sector 62', 'Heritage Xpe...</td>\n",
       "      <td>{'AIPL Business Club Sector 62': '2.7 Km', 'He...</td>\n",
       "      <td>https://www.99acres.com/adani-brahma-samsara-v...</td>\n",
       "      <td>{'3 BHK': {'building_type': 'Independent Floor...</td>\n",
       "      <td>['Terrace Garden', 'Gazebo', 'Fountain', 'Amph...</td>\n",
       "    </tr>\n",
       "    <tr>\n",
       "      <th>3</th>\n",
       "      <td>Sobha City</td>\n",
       "      <td>2, 3, 4 BHK Apartment in Sector 108, Gurgaon</td>\n",
       "      <td>['The Shikshiyan School', 'WTC Plaza', 'Luxus ...</td>\n",
       "      <td>{'The Shikshiyan School': '2.9 KM', 'WTC Plaza...</td>\n",
       "      <td>https://www.99acres.com/sobha-city-sector-108-...</td>\n",
       "      <td>{'2 BHK': {'building_type': 'Apartment', 'area...</td>\n",
       "      <td>['Swimming Pool', 'Volley Ball Court', 'Aerobi...</td>\n",
       "    </tr>\n",
       "    <tr>\n",
       "      <th>4</th>\n",
       "      <td>Signature Global City 93</td>\n",
       "      <td>2, 3 BHK Independent Floor in Sector 93 Gurgaon</td>\n",
       "      <td>['Pranavananda Int. School', 'DLF Site central...</td>\n",
       "      <td>{'Pranavananda Int. School': '450 m', 'DLF Sit...</td>\n",
       "      <td>https://www.99acres.com/signature-global-city-...</td>\n",
       "      <td>{'2 BHK': {'building_type': 'Independent Floor...</td>\n",
       "      <td>['Mini Theatre', 'Doctor on Call', 'Concierge ...</td>\n",
       "    </tr>\n",
       "  </tbody>\n",
       "</table>\n",
       "</div>"
      ],
      "text/plain": [
       "                  PropertyName  \\\n",
       "0           Smartworld One DXP   \n",
       "1                    M3M Crown   \n",
       "2  Adani Brahma Samsara Vilasa   \n",
       "3                   Sobha City   \n",
       "4     Signature Global City 93   \n",
       "\n",
       "                                     PropertySubName  \\\n",
       "0       2, 3, 4 BHK Apartment in Sector 113, Gurgaon   \n",
       "1          3, 4 BHK Apartment in Sector 111, Gurgaon   \n",
       "2  Land, 3, 4 BHK Independent Floor in Sector 63,...   \n",
       "3       2, 3, 4 BHK Apartment in Sector 108, Gurgaon   \n",
       "4    2, 3 BHK Independent Floor in Sector 93 Gurgaon   \n",
       "\n",
       "                                     NearbyLocations  \\\n",
       "0  ['Bajghera Road', 'Palam Vihar Halt', 'DPSG Pa...   \n",
       "1  ['DPSG Palam Vihar Gurugram', 'The NorthCap Un...   \n",
       "2  ['AIPL Business Club Sector 62', 'Heritage Xpe...   \n",
       "3  ['The Shikshiyan School', 'WTC Plaza', 'Luxus ...   \n",
       "4  ['Pranavananda Int. School', 'DLF Site central...   \n",
       "\n",
       "                                  LocationAdvantages  \\\n",
       "0  {'Bajghera Road': '800 Meter', 'Palam Vihar Ha...   \n",
       "1  {'DPSG Palam Vihar Gurugram': '1.4 Km', 'The N...   \n",
       "2  {'AIPL Business Club Sector 62': '2.7 Km', 'He...   \n",
       "3  {'The Shikshiyan School': '2.9 KM', 'WTC Plaza...   \n",
       "4  {'Pranavananda Int. School': '450 m', 'DLF Sit...   \n",
       "\n",
       "                                                Link  \\\n",
       "0  https://www.99acres.com/smartworld-one-dxp-sec...   \n",
       "1  https://www.99acres.com/m3m-crown-sector-111-g...   \n",
       "2  https://www.99acres.com/adani-brahma-samsara-v...   \n",
       "3  https://www.99acres.com/sobha-city-sector-108-...   \n",
       "4  https://www.99acres.com/signature-global-city-...   \n",
       "\n",
       "                                        PriceDetails  \\\n",
       "0  {'2 BHK': {'building_type': 'Apartment', 'area...   \n",
       "1  {'3 BHK': {'building_type': 'Apartment', 'area...   \n",
       "2  {'3 BHK': {'building_type': 'Independent Floor...   \n",
       "3  {'2 BHK': {'building_type': 'Apartment', 'area...   \n",
       "4  {'2 BHK': {'building_type': 'Independent Floor...   \n",
       "\n",
       "                                       TopFacilities  \n",
       "0  ['Swimming Pool', 'Salon', 'Restaurant', 'Spa'...  \n",
       "1  ['Bowling Alley', 'Mini Theatre', 'Manicured G...  \n",
       "2  ['Terrace Garden', 'Gazebo', 'Fountain', 'Amph...  \n",
       "3  ['Swimming Pool', 'Volley Ball Court', 'Aerobi...  \n",
       "4  ['Mini Theatre', 'Doctor on Call', 'Concierge ...  "
      ]
     },
     "execution_count": 3,
     "metadata": {},
     "output_type": "execute_result"
    }
   ],
   "source": [
    "df.head()"
   ]
  },
  {
   "cell_type": "code",
   "execution_count": null,
   "id": "20fa7945",
   "metadata": {},
   "outputs": [],
   "source": []
  }
 ],
 "metadata": {
  "kernelspec": {
   "display_name": "your_custom_kernel",
   "language": "python",
   "name": "your_custom_kernel"
  },
  "language_info": {
   "codemirror_mode": {
    "name": "ipython",
    "version": 3
   },
   "file_extension": ".py",
   "mimetype": "text/x-python",
   "name": "python",
   "nbconvert_exporter": "python",
   "pygments_lexer": "ipython3",
   "version": "3.10.13"
  }
 },
 "nbformat": 4,
 "nbformat_minor": 5
}
